{
 "cells": [
  {
   "cell_type": "code",
   "execution_count": null,
   "id": "6463373a",
   "metadata": {},
   "outputs": [],
   "source": [
    "# import all needed libraries\n",
    "import pandas as pd                 # For data manipulation\n",
    "import numpy as np                  # For numerical operations\n",
    "import matplotlib.pyplot as plt     # For plotting\n",
    "import seaborn as sns               # For advanced visualizations\n",
    "import datetime                     # For date/time manipulation"
   ]
  },
  {
   "cell_type": "markdown",
   "id": "304c5e24",
   "metadata": {},
   "source": [
    "Processing and Cleaning Our Data"
   ]
  },
  {
   "cell_type": "code",
   "execution_count": null,
   "id": "878aa350",
   "metadata": {},
   "outputs": [],
   "source": [
    "# Load Divvy_trips_2019_Q1.csv\n",
    "Q1_2019 = pd.read_csv('datasets\\Divvy_Trips_2019_Q1.csv') \n",
    "\n",
    "# Load Divvy_Trips_2020_Q1.csv\n",
    "Q1_2020 = pd.read_csv('datasets\\Divvy_Trips_2020_Q1.csv')"
   ]
  },
  {
   "cell_type": "code",
   "execution_count": null,
   "id": "a389b4b3",
   "metadata": {},
   "outputs": [],
   "source": [
    "# Display the first few rows of Q1_2019_df\n",
    "Q1_2019.head()"
   ]
  },
  {
   "cell_type": "code",
   "execution_count": null,
   "id": "16fa72d5",
   "metadata": {},
   "outputs": [],
   "source": [
    "# Display the first few rows of Q1_2020_df\n",
    "Q1_2020.head()"
   ]
  },
  {
   "cell_type": "code",
   "execution_count": null,
   "id": "1615f34c",
   "metadata": {},
   "outputs": [],
   "source": [
    "# Display summary information about Q1_2019_df\n",
    "Q1_2019.info()"
   ]
  },
  {
   "cell_type": "code",
   "execution_count": null,
   "id": "60982787",
   "metadata": {},
   "outputs": [],
   "source": [
    "# Display summary information about Q1_2020_df\n",
    "Q1_2020.info()"
   ]
  }
 ],
 "metadata": {
  "kernelspec": {
   "display_name": "Python 3",
   "language": "python",
   "name": "python3"
  },
  "language_info": {
   "codemirror_mode": {
    "name": "ipython",
    "version": 3
   },
   "file_extension": ".py",
   "mimetype": "text/x-python",
   "name": "python",
   "nbconvert_exporter": "python",
   "pygments_lexer": "ipython3",
   "version": "3.12.0"
  }
 },
 "nbformat": 4,
 "nbformat_minor": 5
}

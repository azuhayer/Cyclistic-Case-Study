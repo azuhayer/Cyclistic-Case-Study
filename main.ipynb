{
 "cells": [
  {
   "cell_type": "markdown",
   "id": "f11d9159",
   "metadata": {},
   "source": [
    "# Import all important libraries needed"
   ]
  },
  {
   "cell_type": "code",
   "execution_count": null,
   "id": "6463373a",
   "metadata": {},
   "outputs": [],
   "source": [
    "import pandas as pd                 # For data manipulation\n",
    "import numpy as np                  # For numerical operations\n",
    "import matplotlib.pyplot as plt     # For plotting\n",
    "import seaborn as sns               # For advanced visualizations\n",
    "import datetime                     # For date/time manipulation"
   ]
  },
  {
   "cell_type": "markdown",
   "id": "eb04a82d",
   "metadata": {},
   "source": [
    "# Preparing our data for analysis"
   ]
  },
  {
   "cell_type": "code",
   "execution_count": null,
   "id": "878aa350",
   "metadata": {},
   "outputs": [],
   "source": [
    "# Load Divvy_trips_2019_Q1.csv\n",
    "q1_2019 = pd.read_csv('datasets/Divvy_Trips_2019_Q1.csv') \n",
    "\n",
    "# Load Divvy_Trips_2020_Q1.csv\n",
    "q1_2020 = pd.read_csv('datasets/Divvy_Trips_2020_Q1.csv')"
   ]
  },
  {
   "cell_type": "code",
   "execution_count": null,
   "id": "a389b4b3",
   "metadata": {},
   "outputs": [],
   "source": [
    "# Display the first few rows of q1_2019\n",
    "q1_2019.head()"
   ]
  },
  {
   "cell_type": "code",
   "execution_count": null,
   "id": "16fa72d5",
   "metadata": {},
   "outputs": [],
   "source": [
    "# Display the first few rows of q1_2020\n",
    "q1_2020.head()"
   ]
  },
  {
   "cell_type": "code",
   "execution_count": null,
   "id": "4f05691b",
   "metadata": {},
   "outputs": [],
   "source": [
    "# Standardizing column names of q1_2019 to match the structure of q1_2020 \n",
    "q1_2019.rename(columns={\n",
    "    'trip_id': 'ride_id',\n",
    "    'bikeid': 'rideable_type',\n",
    "    'start_time': 'started_at',\n",
    "    'end_time': 'ended_at',\n",
    "    'from_station_name': 'start_station_name',\n",
    "    'from_station_id': 'start_station_id',\n",
    "    'to_station_name': 'end_station_name',\n",
    "    'to_station_id': 'end_station_id',\n",
    "    'usertype': 'member_casual'\n",
    "}, inplace=True)"
   ]
  },
  {
   "cell_type": "code",
   "execution_count": null,
   "id": "38dee910",
   "metadata": {},
   "outputs": [],
   "source": [
    "# Check data structure\n",
    "q1_2019.info()"
   ]
  },
  {
   "cell_type": "code",
   "execution_count": null,
   "id": "d40161bf",
   "metadata": {},
   "outputs": [],
   "source": [
    "# Check data structure\n",
    "q1_2020.info()"
   ]
  },
  {
   "cell_type": "code",
   "execution_count": null,
   "id": "d62da947",
   "metadata": {},
   "outputs": [],
   "source": [
    "# Convert ride_id and rideable_type to string\n",
    "q1_2019['ride_id'] = q1_2019['ride_id'].astype(str)\n",
    "q1_2019['rideable_type'] = q1_2019['rideable_type'].astype(str)"
   ]
  },
  {
   "cell_type": "code",
   "execution_count": null,
   "id": "a5490ff7",
   "metadata": {},
   "outputs": [],
   "source": [
    "# Combine both datasets and name the new table: all_trips\n",
    "all_trips = pd.concat([q1_2019, q1_2020], ignore_index=True)"
   ]
  },
  {
   "cell_type": "code",
   "execution_count": null,
   "id": "9543e98b",
   "metadata": {},
   "outputs": [],
   "source": [
    "# Drop irrelevant columns\n",
    "columns_to_drop = ['start_lat', 'start_lng', 'end_lat', 'end_lng', 'birthyear', 'gender', 'tripduration']\n",
    "all_trips = all_trips.drop(columns=[col for col in columns_to_drop if col in all_trips.columns])"
   ]
  },
  {
   "cell_type": "code",
   "execution_count": null,
   "id": "373ca563",
   "metadata": {},
   "outputs": [],
   "source": [
    "# Display first couple of rows of the new all_trips table\n",
    "all_trips.head()"
   ]
  },
  {
   "cell_type": "code",
   "execution_count": null,
   "id": "f453626f",
   "metadata": {},
   "outputs": [],
   "source": [
    "# Display info\n",
    "all_trips.info()"
   ]
  },
  {
   "cell_type": "markdown",
   "id": "f336bf9a",
   "metadata": {},
   "source": [
    "# Processing our data for analysis"
   ]
  },
  {
   "cell_type": "code",
   "execution_count": null,
   "id": "a0507365",
   "metadata": {},
   "outputs": [],
   "source": [
    "# Drop any null values from the table\n",
    "all_trips.dropna(inplace=True)"
   ]
  },
  {
   "cell_type": "code",
   "execution_count": null,
   "id": "788e1e17",
   "metadata": {},
   "outputs": [],
   "source": [
    "# Check if all null rows have been removed\n",
    "all_trips.isnull().sum()"
   ]
  },
  {
   "cell_type": "code",
   "execution_count": null,
   "id": "a174bb4d",
   "metadata": {},
   "outputs": [],
   "source": [
    "# Make sure both started_at and ended_at are datetime \n",
    "all_trips['started_at'] = pd.to_datetime(all_trips['started_at'])\n",
    "all_trips['ended_at'] = pd.to_datetime(all_trips['ended_at'])\n",
    "\n",
    "print(all_trips.dtypes)"
   ]
  },
  {
   "cell_type": "code",
   "execution_count": null,
   "id": "dc6fcd6b",
   "metadata": {},
   "outputs": [],
   "source": [
    "# Create a day_of_week column to our table\n",
    "all_trips['day_of_week'] = all_trips['started_at'].dt.day_name()"
   ]
  },
  {
   "cell_type": "code",
   "execution_count": null,
   "id": "c4b7b0cf",
   "metadata": {},
   "outputs": [],
   "source": [
    "# Create a ride_length column to our table\n",
    "# ride_length will be measured in seconds\n",
    "all_trips['ride_length'] = (all_trips['ended_at'] - all_trips['started_at']).dt.total_seconds()"
   ]
  },
  {
   "cell_type": "code",
   "execution_count": null,
   "id": "76030fbb",
   "metadata": {},
   "outputs": [],
   "source": [
    "# Display new table with new columns\n",
    "all_trips.head()"
   ]
  },
  {
   "cell_type": "code",
   "execution_count": null,
   "id": "4ea9ce18",
   "metadata": {},
   "outputs": [],
   "source": [
    "# Display last few rows of all_trips\n",
    "all_trips.tail()"
   ]
  },
  {
   "cell_type": "code",
   "execution_count": null,
   "id": "4732a3d6",
   "metadata": {},
   "outputs": [],
   "source": [
    "# Replace Subscriber with member and Customer with casual\n",
    "all_trips['member_casual'] = all_trips['member_casual'].replace({\n",
    "    'Subscriber': 'member',\n",
    "    'Customer': 'casual'\n",
    "})"
   ]
  },
  {
   "cell_type": "code",
   "execution_count": null,
   "id": "893f98d8",
   "metadata": {},
   "outputs": [],
   "source": [
    "# Check to see if the proper naming conventions were applied\n",
    "all_trips['member_casual'].value_counts()"
   ]
  },
  {
   "cell_type": "code",
   "execution_count": null,
   "id": "50491048",
   "metadata": {},
   "outputs": [],
   "source": [
    "# Find negative values in ride_length column\n",
    "negative_values = all_trips[all_trips['ride_length'] < 0]\n",
    "negative_values"
   ]
  },
  {
   "cell_type": "code",
   "execution_count": null,
   "id": "7a417cd9",
   "metadata": {},
   "outputs": [],
   "source": [
    "# Remove any rows with negative ride_length values or where the start station is HQ QR\n",
    "# Create a new table called all_trips_v2\n",
    "# This table will be used for further analysis\n",
    "all_trips_v2 = all_trips[~((all_trips['start_station_name'] == 'HQ QR') | (all_trips['ride_length'] < 0))]"
   ]
  },
  {
   "cell_type": "code",
   "execution_count": null,
   "id": "b2f9511b",
   "metadata": {},
   "outputs": [],
   "source": [
    "all_trips_v2.head()"
   ]
  },
  {
   "cell_type": "code",
   "execution_count": null,
   "id": "c7500ab6",
   "metadata": {},
   "outputs": [],
   "source": [
    "all_trips_v2.tail()"
   ]
  },
  {
   "cell_type": "markdown",
   "id": "4c815479",
   "metadata": {},
   "source": [
    "# Conduct Descriptive Analysis "
   ]
  },
  {
   "cell_type": "code",
   "execution_count": null,
   "id": "9655df90",
   "metadata": {},
   "outputs": [],
   "source": [
    "# Check the mean, median, mode, max, and min of ride_length\n",
    "mean_ride_length = all_trips_v2['ride_length'].mean()\n",
    "median_ride_length = all_trips_v2['ride_length'].median()\n",
    "mode_ride_length = all_trips_v2['ride_length'].mode()\n",
    "max_ride_length = all_trips_v2['ride_length'].max()\n",
    "min_ride_length = all_trips_v2['ride_length'].min()\n",
    "\n",
    "# Print out the values for each\n",
    "print(f\"Mean: {mean_ride_length}\")\n",
    "print(f\"Median: {median_ride_length}\")\n",
    "print(f\"Mode: {mode_ride_length.values}\")\n",
    "print(f\"Max: {max_ride_length}\")\n",
    "print(f\"Min: {min_ride_length}\")"
   ]
  },
  {
   "cell_type": "code",
   "execution_count": null,
   "id": "4315cb3a",
   "metadata": {},
   "outputs": [],
   "source": [
    "# Compare mean, median, mode, max and min between member types\n",
    "print(all_trips_v2.groupby('member_casual')['ride_length'].mean())\n",
    "print(all_trips_v2.groupby('member_casual')['ride_length'].median())\n",
    "print(all_trips_v2.groupby('member_casual')['ride_length'].max())\n",
    "print(all_trips_v2.groupby('member_casual')['ride_length'].min())\n"
   ]
  }
 ],
 "metadata": {
  "kernelspec": {
   "display_name": "Python 3",
   "language": "python",
   "name": "python3"
  },
  "language_info": {
   "codemirror_mode": {
    "name": "ipython",
    "version": 3
   },
   "file_extension": ".py",
   "mimetype": "text/x-python",
   "name": "python",
   "nbconvert_exporter": "python",
   "pygments_lexer": "ipython3",
   "version": "3.12.0"
  }
 },
 "nbformat": 4,
 "nbformat_minor": 5
}
